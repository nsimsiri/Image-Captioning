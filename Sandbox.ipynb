{
 "cells": [
  {
   "cell_type": "code",
   "execution_count": 1,
   "metadata": {
    "collapsed": true
   },
   "outputs": [],
   "source": [
    "import torch\n",
    "from torch import nn\n",
    "from torch.autograd import Variable\n",
    "from torch import *"
   ]
  },
  {
   "cell_type": "code",
   "execution_count": 2,
   "metadata": {},
   "outputs": [
    {
     "data": {
      "text/plain": [
       "torch.int32"
      ]
     },
     "execution_count": 2,
     "metadata": {},
     "output_type": "execute_result"
    }
   ],
   "source": [
    "torch.int32"
   ]
  },
  {
   "cell_type": "code",
   "execution_count": 3,
   "metadata": {
    "scrolled": true
   },
   "outputs": [
    {
     "name": "stdout",
     "output_type": "stream",
     "text": [
      "tensor([[ 0.,  1.],\n",
      "        [ 2.,  3.]])\n",
      "torch.Size([3, 4, 5])\n",
      "torch.Size([3, 5])\n",
      "3\n",
      "<class 'torch.nn.modules.activation.Softmax'>\n",
      "tensor([[[ 4.2484e-18,  4.2484e-18,  4.2484e-18,  4.2484e-18,  4.2484e-18]],\n",
      "\n",
      "        [[ 2.0612e-09,  2.0612e-09,  2.0612e-09,  2.0612e-09,  2.0612e-09]],\n",
      "\n",
      "        [[ 1.0000e+00,  1.0000e+00,  1.0000e+00,  1.0000e+00,  1.0000e+00]]])\n"
     ]
    },
    {
     "name": "stderr",
     "output_type": "stream",
     "text": [
      "/Users/nsimsiri/anaconda2/lib/python2.7/site-packages/ipykernel_launcher.py:17: UserWarning: Implicit dimension choice for softmax has been deprecated. Change the call to include dim=X as an argument.\n"
     ]
    }
   ],
   "source": [
    "a = torch.ones((3,5,2,2))\n",
    "b = torch.arange(3*5*2*2).view((3,5,2,2))\n",
    "print b[0,0]\n",
    "c = b.view((3,5,4));\n",
    "d = c.permute(0,2,1)\n",
    "# print c\n",
    "print d.shape\n",
    "a = torch.mean(d, 1)\n",
    "print a.shape\n",
    "f = a.unsqueeze(1);\n",
    "(n,_,_) = f.shape\n",
    "print n\n",
    "# print d.contiguous().view((12, 5)).shape\n",
    "\n",
    "print nn.Softmax\n",
    "softmax = nn.Softmax()\n",
    "print softmax(f);"
   ]
  },
  {
   "cell_type": "code",
   "execution_count": 4,
   "metadata": {},
   "outputs": [
    {
     "name": "stdout",
     "output_type": "stream",
     "text": [
      "tensor([[[  0.,   1.,   2.,   3.],\n",
      "         [  4.,   5.,   6.,   7.],\n",
      "         [  8.,   9.,  10.,  11.]],\n",
      "\n",
      "        [[ 12.,  13.,  14.,  15.],\n",
      "         [ 16.,  17.,  18.,  19.],\n",
      "         [ 20.,  21.,  22.,  23.]]])\n",
      "tensor([[ 1.,  1.,  1.],\n",
      "        [ 2.,  2.,  2.]])\n",
      "tensor([[[ 1.],\n",
      "         [ 1.],\n",
      "         [ 1.]],\n",
      "\n",
      "        [[ 2.],\n",
      "         [ 2.],\n",
      "         [ 2.]]])\n"
     ]
    }
   ],
   "source": [
    "a = torch.arange(2*3*4).view((2,3,4))\n",
    "b = torch.Tensor(([[1,1,1],[2,2,2]]));\n",
    "\n",
    "print a\n",
    "print b\n",
    "print b.unsqueeze(2)\n"
   ]
  },
  {
   "cell_type": "code",
   "execution_count": 5,
   "metadata": {},
   "outputs": [
    {
     "name": "stdout",
     "output_type": "stream",
     "text": [
      "tensor([ 1,  2])\n"
     ]
    }
   ],
   "source": [
    "a = torch.Tensor([[1,10,5],[3,4,6]])\n",
    "k = torch.max(a, 1)\n",
    "print k[1]"
   ]
  },
  {
   "cell_type": "code",
   "execution_count": 6,
   "metadata": {},
   "outputs": [
    {
     "name": "stdout",
     "output_type": "stream",
     "text": [
      "<type 'torch.LongTensor'>\n",
      "[[2, 2, 2, 2, 2]]\n",
      "tensor([[ 2],\n",
      "        [ 2],\n",
      "        [ 2],\n",
      "        [ 2],\n",
      "        [ 2]])\n",
      "torch.Size([5, 2])\n"
     ]
    }
   ],
   "source": [
    "print torch.LongTensor\n",
    "a = [[2]*5]\n",
    "print a\n",
    "print torch.LongTensor(a).permute(1,0)\n",
    "a.append([3]*5)\n",
    "print torch.LongTensor(a).permute(1,0).shape\n",
    "\n"
   ]
  },
  {
   "cell_type": "code",
   "execution_count": 7,
   "metadata": {
    "collapsed": true
   },
   "outputs": [],
   "source": [
    "import numpy as np"
   ]
  },
  {
   "cell_type": "code",
   "execution_count": 8,
   "metadata": {},
   "outputs": [
    {
     "data": {
      "text/plain": [
       "array([[False,  True],\n",
       "       [ True, False]])"
      ]
     },
     "execution_count": 8,
     "metadata": {},
     "output_type": "execute_result"
    }
   ],
   "source": [
    "a = np.array([[1,0],[0,1]]);\n",
    "a == 0"
   ]
  },
  {
   "cell_type": "code",
   "execution_count": 9,
   "metadata": {},
   "outputs": [
    {
     "ename": "TypeError",
     "evalue": "__init__() takes at least 3 arguments (2 given)",
     "output_type": "error",
     "traceback": [
      "\u001b[0;31m---------------------------------------------------------------------------\u001b[0m",
      "\u001b[0;31mTypeError\u001b[0m                                 Traceback (most recent call last)",
      "\u001b[0;32m<ipython-input-9-54656b93d46d>\u001b[0m in \u001b[0;36m<module>\u001b[0;34m()\u001b[0m\n\u001b[0;32m----> 1\u001b[0;31m \u001b[0mnn\u001b[0m\u001b[0;34m.\u001b[0m\u001b[0mLinear\u001b[0m\u001b[0;34m(\u001b[0m\u001b[0;34m(\u001b[0m\u001b[0;36m2\u001b[0m\u001b[0;34m,\u001b[0m\u001b[0;36m2\u001b[0m\u001b[0;34m)\u001b[0m\u001b[0;34m)\u001b[0m\u001b[0;34m\u001b[0m\u001b[0m\n\u001b[0m",
      "\u001b[0;31mTypeError\u001b[0m: __init__() takes at least 3 arguments (2 given)"
     ]
    }
   ],
   "source": [
    "nn.Linear((2,2))"
   ]
  },
  {
   "cell_type": "code",
   "execution_count": null,
   "metadata": {},
   "outputs": [],
   "source": [
    "from torch.nn.utils.rnn import pack_padded_sequence\n",
    "a = torch.Tensor([1,2,0])\n",
    "b = torch.Tensor([2,0,0])\n",
    "# print a;\n",
    "# print b;\n",
    "c = [a, b]\n",
    "d = torch.cat(c)\n",
    "d= d.view(2,3)\n",
    "# print d\n",
    "# pad = nn.ConstantPad2d((0, 3, 0, 0), 0)\n",
    "# pad(d)\n",
    "\n",
    "\n",
    "print d\n",
    "p = pack_padded_sequence(d, [2,1], batch_first=True)\n",
    "print p[0]"
   ]
  },
  {
   "cell_type": "code",
   "execution_count": null,
   "metadata": {},
   "outputs": [],
   "source": [
    "lin = nn.Linear(10,5)\n",
    "lin(torch.ones((2,2,10)))"
   ]
  },
  {
   "cell_type": "code",
   "execution_count": null,
   "metadata": {},
   "outputs": [],
   "source": [
    "rnn = nn.LSTMCell(10, 20)\n",
    "input = torch.randn(6, 3, 10)\n",
    "hx = torch.randn(3, 20)\n",
    "cx = torch.randn(3, 20)\n",
    "output = []\n",
    "for i in range(6):\n",
    "    hx, cx = rnn(input[i], (hx, cx))\n",
    "    print hx\n",
    "    output.append(hx)"
   ]
  },
  {
   "cell_type": "code",
   "execution_count": null,
   "metadata": {},
   "outputs": [],
   "source": [
    "print output"
   ]
  },
  {
   "cell_type": "code",
   "execution_count": null,
   "metadata": {},
   "outputs": [],
   "source": [
    "a = torch.arange(2*3).view((2,3))\n",
    "b = torch.arange(2*3).view((2,3))\n",
    "print [a,b] # 2,2,3\n",
    "c = torch.cat([a,b])\n",
    "print c\n",
    "print c.view((2,2,3))\n"
   ]
  },
  {
   "cell_type": "code",
   "execution_count": null,
   "metadata": {
    "collapsed": true
   },
   "outputs": [],
   "source": [
    "from torch.autograd import Variable"
   ]
  },
  {
   "cell_type": "code",
   "execution_count": null,
   "metadata": {
    "collapsed": true
   },
   "outputs": [],
   "source": [
    "x = Variable(torch.ones((1,1)))"
   ]
  },
  {
   "cell_type": "code",
   "execution_count": 39,
   "metadata": {},
   "outputs": [
    {
     "name": "stdout",
     "output_type": "stream",
     "text": [
      "tensor([[ 1,  2],\n",
      "        [ 3,  4],\n",
      "        [ 5,  6]])\n"
     ]
    },
    {
     "data": {
      "text/plain": [
       "tensor([[ 5,  2]])"
      ]
     },
     "execution_count": 39,
     "metadata": {},
     "output_type": "execute_result"
    }
   ],
   "source": [
    "t = torch.tensor([[1,2],[3,4],[5,6]])\n",
    "print t\n",
    "idx = torch.tensor([[2,0]])\n",
    "torch.gather(t, 0, torch.tensor(idx))\n"
   ]
  },
  {
   "cell_type": "code",
   "execution_count": 128,
   "metadata": {},
   "outputs": [
    {
     "name": "stdout",
     "output_type": "stream",
     "text": [
      "tensor([ 2,  1])\n",
      "tensor([[ 2,  3,  0,  0],\n",
      "        [ 2,  0,  0,  0]])\n",
      "tensor([[ 2,  3,  9,  0],\n",
      "        [ 2,  9,  0,  0]])\n"
     ]
    },
    {
     "data": {
      "text/plain": [
       "tensor([[ 1,  2,  3,  9,  0],\n",
       "        [ 1,  2,  9,  0,  0]])"
      ]
     },
     "execution_count": 128,
     "metadata": {},
     "output_type": "execute_result"
    }
   ],
   "source": [
    "captions = torch.tensor([[2,3,0,0],[2,0,0,0]])\n",
    "length = torch.tensor([2,1])\n",
    "print length\n",
    "print captions\n",
    "x = torch.arange(captions.size(0),dtype=torch.int64)\n",
    "captions[x, length] = torch.tensor([9, 9])\n",
    "print captions\n",
    "front = torch.full((2,1), 1, dtype=torch.int64)\n",
    "torch.cat((front,captions), 1)"
   ]
  },
  {
   "cell_type": "code",
   "execution_count": 55,
   "metadata": {
    "collapsed": true
   },
   "outputs": [],
   "source": [
    "import numpy as np"
   ]
  },
  {
   "cell_type": "code",
   "execution_count": 98,
   "metadata": {},
   "outputs": [
    {
     "data": {
      "text/plain": [
       "torch.int64"
      ]
     },
     "execution_count": 98,
     "metadata": {},
     "output_type": "execute_result"
    }
   ],
   "source": [
    "torch.int64\n"
   ]
  },
  {
   "cell_type": "code",
   "execution_count": null,
   "metadata": {
    "collapsed": true
   },
   "outputs": [],
   "source": []
  }
 ],
 "metadata": {
  "kernelspec": {
   "display_name": "Python 2",
   "language": "python",
   "name": "python2"
  },
  "language_info": {
   "codemirror_mode": {
    "name": "ipython",
    "version": 2
   },
   "file_extension": ".py",
   "mimetype": "text/x-python",
   "name": "python",
   "nbconvert_exporter": "python",
   "pygments_lexer": "ipython2",
   "version": "2.7.13"
  }
 },
 "nbformat": 4,
 "nbformat_minor": 2
}
