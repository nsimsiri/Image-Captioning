{
 "cells": [
  {
   "cell_type": "code",
   "execution_count": 12,
   "metadata": {},
   "outputs": [
    {
     "name": "stdout",
     "output_type": "stream",
     "text": [
      "The autoreload extension is already loaded. To reload it, use:\n",
      "  %reload_ext autoreload\n"
     ]
    }
   ],
   "source": [
    "import os, sys, json\n",
    "src_path = os.path.join(os.getcwd(), \"..\")\n",
    "sys.path.insert(0, src_path)\n",
    "\n",
    "import torch\n",
    "from torch import nn\n",
    "from torch.autograd import Variable\n",
    "import yaml\n",
    "from yaml import CLoader as Loader\n",
    "# from src.pycocotools.coco import COCO\n",
    "\n",
    "import numpy as np\n",
    "\n",
    "from PIL import Image\n",
    "from matplotlib import pyplot as plt\n",
    "\n",
    "from src.config import CaptionConfig\n",
    "\n",
    "%load_ext autoreload\n",
    "%autoreload 2\n",
    "\n",
    "%matplotlib inline\n"
   ]
  },
  {
   "cell_type": "code",
   "execution_count": 17,
   "metadata": {},
   "outputs": [
    {
     "name": "stdout",
     "output_type": "stream",
     "text": [
      "loading annotations into memory...\n",
      "Done (t=0.39s)\n",
      "creating index...\n",
      "index created!\n",
      "loaded - val captions\n",
      "\n",
      "\n",
      "\n",
      "\n",
      "\n",
      "\n"
     ]
    }
   ],
   "source": [
    "config_file = os.path.join(src_path, \"src\", \"config.yml\")\n",
    "caption_conf = CaptionConfig(config_file)"
   ]
  },
  {
   "cell_type": "code",
   "execution_count": 4,
   "metadata": {},
   "outputs": [
    {
     "name": "stdout",
     "output_type": "stream",
     "text": [
      "[{'image_id': 203564, 'id': 37, 'caption': 'A bicycle replica with a clock as the front wheel.'}]\n"
     ]
    }
   ],
   "source": [
    "coco_cap = caption_conf.get_coco_captions()\n",
    "annIds = coco_cap.getAnnIds()\n",
    "print(coco_cap.loadAnns(annIds[0]))\n"
   ]
  },
  {
   "cell_type": "code",
   "execution_count": 9,
   "metadata": {},
   "outputs": [
    {
     "name": "stdout",
     "output_type": "stream",
     "text": [
      "[{'license': 3, 'file_name': 'COCO_val2014_000000391895.jpg', 'coco_url': 'http://images.cocodataset.org/val2014/COCO_val2014_000000391895.jpg', 'height': 360, 'width': 640, 'date_captured': '2013-11-14 11:18:45', 'flickr_url': 'http://farm9.staticflickr.com/8186/8119368305_4e622c8349_z.jpg', 'id': 391895}, {'license': 4, 'file_name': 'COCO_val2014_000000522418.jpg', 'coco_url': 'http://images.cocodataset.org/val2014/COCO_val2014_000000522418.jpg', 'height': 480, 'width': 640, 'date_captured': '2013-11-14 11:38:44', 'flickr_url': 'http://farm1.staticflickr.com/1/127244861_ab0c0381e7_z.jpg', 'id': 522418}]\n",
      "\n",
      "['/Users/nsimsiri/Documents/code/ml/coco/val2014/COCO_val2014_000000391895.jpg', '/Users/nsimsiri/Documents/code/ml/coco/val2014/COCO_val2014_000000522418.jpg']\n"
     ]
    }
   ],
   "source": [
    "coco_cap.loadAnns(annIds[0])\n",
    "imgIds = coco_cap.getImgIds()\n",
    "print(coco_cap.loadImgs(imgIds[:2]))\n",
    "print()\n",
    "\n",
    "print(caption_conf.get_image_path(imgIds[:2]))\n"
   ]
  },
  {
   "cell_type": "code",
   "execution_count": null,
   "metadata": {},
   "outputs": [],
   "source": [
    "def loadImg(imgIds):\n",
    "    imgObj = coco_val.loadImgs(imgIds)\n",
    "    image_i_path = os.path.join(image_path, imgObj[0]['file_name'])\n",
    "    assert(os.path.exists(image_i_path))\n",
    "    return Image.open(image_i_path)\n",
    "\n",
    "img = loadImg(imgIds[0])\n",
    "\n",
    "img_arr = np.array(img)\n",
    "\n",
    "plt.imshow(img_arr)\n"
   ]
  },
  {
   "cell_type": "code",
   "execution_count": null,
   "metadata": {},
   "outputs": [],
   "source": [
    "print(os.path.join('/a','b','c'))"
   ]
  },
  {
   "cell_type": "code",
   "execution_count": null,
   "metadata": {},
   "outputs": [],
   "source": []
  }
 ],
 "metadata": {
  "kernelspec": {
   "display_name": "Python 3",
   "language": "python",
   "name": "python3"
  },
  "language_info": {
   "codemirror_mode": {
    "name": "ipython",
    "version": 3
   },
   "file_extension": ".py",
   "mimetype": "text/x-python",
   "name": "python",
   "nbconvert_exporter": "python",
   "pygments_lexer": "ipython3",
   "version": "3.7.3"
  }
 },
 "nbformat": 4,
 "nbformat_minor": 2
}
