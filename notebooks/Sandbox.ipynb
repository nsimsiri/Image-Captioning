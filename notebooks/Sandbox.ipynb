{
 "cells": [
  {
   "cell_type": "code",
   "execution_count": 3,
   "metadata": {},
   "outputs": [],
   "source": [
    "import os, sys, json\n",
    "src_path = os.path.abspath(os.path.join(\"..\"))\n",
    "if src_path not in sys.path:\n",
    "    sys.path.append(src_path)\n",
    "\n",
    "import torch\n",
    "from torch import nn\n",
    "from torch.autograd import Variable\n",
    "import yaml\n",
    "from yaml import CLoader as Loader\n",
    "\n",
    "import numpy as np\n",
    "\n",
    "from PIL import Image\n",
    "from matplotlib import pyplot as plt\n",
    "\n",
    "from src.config import CaptionConfig\n",
    "\n",
    "%load_ext autoreload\n",
    "%autoreload 2\n",
    "\n",
    "%matplotlib inline\n"
   ]
  },
  {
   "cell_type": "code",
   "execution_count": null,
   "metadata": {},
   "outputs": [],
   "source": [
    "config_file = os.path.join(src_path, \"src\", \"config.yml\")\n",
    "caption_conf = CaptionConfig(config_file)"
   ]
  },
  {
   "cell_type": "code",
   "execution_count": null,
   "metadata": {},
   "outputs": [],
   "source": [
    "coco_cap = caption_conf.get_coco_captions()\n",
    "annIds = coco_cap.getAnnIds()\n",
    "print(coco_cap.loadAnns(annIds[0]))\n"
   ]
  },
  {
   "cell_type": "code",
   "execution_count": null,
   "metadata": {},
   "outputs": [],
   "source": [
    "coco_cap.loadAnns(annIds[0])\n",
    "imgIds = coco_cap.getImgIds()\n",
    "print(coco_cap.loadImgs(imgIds[:2]))\n",
    "print()\n",
    "\n",
    "print(caption_conf.get_image_path(imgIds[:2]))\n"
   ]
  },
  {
   "cell_type": "code",
   "execution_count": null,
   "metadata": {},
   "outputs": [],
   "source": [
    "def loadImg(imgIds):\n",
    "    imgObj = coco_val.loadImgs(imgIds)\n",
    "    image_i_path = os.path.join(image_path, imgObj[0]['file_name'])\n",
    "    assert(os.path.exists(image_i_path))\n",
    "    return Image.open(image_i_path)\n",
    "\n",
    "img = loadImg(imgIds[0])\n",
    "\n",
    "img_arr = np.array(img)\n",
    "\n",
    "plt.imshow(img_arr)\n"
   ]
  },
  {
   "cell_type": "code",
   "execution_count": null,
   "metadata": {},
   "outputs": [],
   "source": [
    "print(os.path.join('/a','b','c'))"
   ]
  },
  {
   "cell_type": "code",
   "execution_count": null,
   "metadata": {},
   "outputs": [],
   "source": []
  }
 ],
 "metadata": {
  "kernelspec": {
   "display_name": "Python 3",
   "language": "python",
   "name": "python3"
  },
  "language_info": {
   "codemirror_mode": {
    "name": "ipython",
    "version": 3
   },
   "file_extension": ".py",
   "mimetype": "text/x-python",
   "name": "python",
   "nbconvert_exporter": "python",
   "pygments_lexer": "ipython3",
   "version": "3.7.3"
  }
 },
 "nbformat": 4,
 "nbformat_minor": 2
}
