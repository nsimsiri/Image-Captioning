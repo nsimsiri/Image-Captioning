{
 "cells": [
  {
   "cell_type": "code",
   "execution_count": 1,
   "metadata": {},
   "outputs": [],
   "source": [
    "import numpy as np\n"
   ]
  },
  {
   "cell_type": "code",
   "execution_count": 23,
   "metadata": {},
   "outputs": [
    {
     "name": "stdout",
     "output_type": "stream",
     "text": [
      "[[0.11961632 0.75107761 0.51553375 0.76917322 0.0849884 ]\n",
      " [0.17528621 0.22874884 0.68978554 0.37709092 0.17092276]\n",
      " [0.88416685 0.30723245 0.4944694  0.55223031 0.14075619]\n",
      " [0.57478203 0.23498152 0.74634653 0.32231685 0.6491111 ]\n",
      " [0.98411235 0.34354572 0.09675898 0.67863458 0.68358639]]\n",
      "(5, 5, 1)\n",
      "[[[0.11961632 0.         0.        ]\n",
      "  [0.75107761 0.         0.        ]\n",
      "  [0.51553375 0.         0.        ]\n",
      "  [0.76917322 0.         0.        ]\n",
      "  [0.0849884  0.         0.        ]]\n",
      "\n",
      " [[0.17528621 0.         0.        ]\n",
      "  [0.22874884 0.         0.        ]\n",
      "  [0.68978554 0.         0.        ]\n",
      "  [0.37709092 0.         0.        ]\n",
      "  [0.17092276 0.         0.        ]]\n",
      "\n",
      " [[0.88416685 0.         0.        ]\n",
      "  [0.30723245 0.         0.        ]\n",
      "  [0.4944694  0.         0.        ]\n",
      "  [0.55223031 0.         0.        ]\n",
      "  [0.14075619 0.         0.        ]]\n",
      "\n",
      " [[0.57478203 0.         0.        ]\n",
      "  [0.23498152 0.         0.        ]\n",
      "  [0.74634653 0.         0.        ]\n",
      "  [0.32231685 0.         0.        ]\n",
      "  [0.6491111  0.         0.        ]]\n",
      "\n",
      " [[0.98411235 0.         0.        ]\n",
      "  [0.34354572 0.         0.        ]\n",
      "  [0.09675898 0.         0.        ]\n",
      "  [0.67863458 0.         0.        ]\n",
      "  [0.68358639 0.         0.        ]]]\n"
     ]
    }
   ],
   "source": [
    "x = np.random.random((5,5))\n",
    "print(x)\n",
    "y = np.expand_dims(x, (2))\n",
    "print(y.shape)\n",
    "\n",
    "\n",
    "y = np.zeros((x.shape[0], x.shape[1], 3))\n",
    "y[:,:,0] = x\n",
    "print(y)"
   ]
  },
  {
   "cell_type": "code",
   "execution_count": 18,
   "metadata": {},
   "outputs": [
    {
     "name": "stdout",
     "output_type": "stream",
     "text": [
      "[[[0.]\n",
      "  [0.]\n",
      "  [0.]\n",
      "  [0.]\n",
      "  [0.]]\n",
      "\n",
      " [[0.]\n",
      "  [0.]\n",
      "  [0.]\n",
      "  [0.]\n",
      "  [0.]]\n",
      "\n",
      " [[0.]\n",
      "  [0.]\n",
      "  [0.]\n",
      "  [0.]\n",
      "  [0.]]\n",
      "\n",
      " [[0.]\n",
      "  [0.]\n",
      "  [0.]\n",
      "  [0.]\n",
      "  [0.]]\n",
      "\n",
      " [[0.]\n",
      "  [0.]\n",
      "  [0.]\n",
      "  [0.]\n",
      "  [0.]]]\n"
     ]
    }
   ],
   "source": [
    "print(np.zeros_like(y))"
   ]
  },
  {
   "cell_type": "code",
   "execution_count": null,
   "metadata": {},
   "outputs": [],
   "source": []
  }
 ],
 "metadata": {
  "kernelspec": {
   "display_name": "Python 3",
   "language": "python",
   "name": "python3"
  },
  "language_info": {
   "codemirror_mode": {
    "name": "ipython",
    "version": 3
   },
   "file_extension": ".py",
   "mimetype": "text/x-python",
   "name": "python",
   "nbconvert_exporter": "python",
   "pygments_lexer": "ipython3",
   "version": "3.7.3"
  }
 },
 "nbformat": 4,
 "nbformat_minor": 2
}
