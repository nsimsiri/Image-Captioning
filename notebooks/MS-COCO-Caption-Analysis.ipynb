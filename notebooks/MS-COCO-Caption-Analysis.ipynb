{
 "cells": [
  {
   "cell_type": "code",
   "execution_count": 53,
   "metadata": {},
   "outputs": [
    {
     "name": "stdout",
     "output_type": "stream",
     "text": [
      "The autoreload extension is already loaded. To reload it, use:\n",
      "  %reload_ext autoreload\n"
     ]
    }
   ],
   "source": [
    "import os, sys, json, re\n",
    "from collections import defaultdict\n",
    "src_path = os.path.abspath(os.path.join(\"..\"))\n",
    "if src_path not in sys.path:\n",
    "    sys.path.append(src_path)\n",
    "    \n",
    "import pandas as pd\n",
    "import numpy as np\n",
    "import nltk\n",
    "from nltk import sent_tokenize, word_tokenize\n",
    "\n",
    "from src.config import CaptionConfig\n",
    "import matplotlib.pyplot as plt \n",
    "\n",
    "%matplotlib inline\n",
    "%load_ext autoreload\n",
    "%autoreload 2\n"
   ]
  },
  {
   "cell_type": "code",
   "execution_count": 5,
   "metadata": {},
   "outputs": [
    {
     "name": "stdout",
     "output_type": "stream",
     "text": [
      "/Users/nsimsiri/Documents/code/ml/nlp/cap/notebooks/../src/config.yml\n",
      "loading annotations into memory...\n",
      "Done (t=0.33s)\n",
      "creating index...\n",
      "index created!\n",
      "loaded - val captions\n",
      "\n",
      "\n",
      "\n",
      "\n",
      "\n",
      "\n"
     ]
    }
   ],
   "source": [
    "config_path = os.path.join(os.getcwd(), \"..\", \"src\",\"config.yml\")\n",
    "print(config_path)\n",
    "caption_config = CaptionConfig(config_path) \n",
    "# print(word_tokenize(\"aren't\"))"
   ]
  },
  {
   "cell_type": "markdown",
   "metadata": {},
   "source": [
    "### NLP statistics"
   ]
  },
  {
   "cell_type": "code",
   "execution_count": 51,
   "metadata": {},
   "outputs": [
    {
     "name": "stdout",
     "output_type": "stream",
     "text": [
      "# captions: 500\n"
     ]
    },
    {
     "data": {
      "image/png": "[encoded data removed]",
      "text/plain": [
       "<Figure size 432x288 with 1 Axes>"
      ]
     },
     "metadata": {
      "needs_background": "light"
     },
     "output_type": "display_data"
    }
   ],
   "source": [
    "n_samples = 500\n",
    "\n",
    "coco_caption = caption_config.get_coco_captions()\n",
    "annIds = coco_caption.getAnnIds()\n",
    "annIds = np.random.choice(annIds, size=n_samples, replace=False).tolist()\n",
    "print(\"# captions: \" + str(len(annIds)))\n",
    "\n",
    "sentence_lens = defaultdict(int)\n",
    "for annId in annIds:\n",
    "    ann_i = coco_caption.loadAnns(annId)[0]\n",
    "    tokens = word_tokenize(ann_i['caption'])\n",
    "    sentence_lens[(len(tokens))]+=1\n",
    "\n",
    "freqs = []\n",
    "freq_keys = sorted(sentence_lens.keys(), reverse=True)\n",
    "for sorted_freq in freq_keys:\n",
    "    freqs.append(sentence_lens[sorted_freq])\n",
    "\n",
    "topK = 500\n",
    "plt.bar(freq_keys[:topK], freqs[:topK])\n",
    "plt.title(\"Caption length distribution\")\n",
    "plt.ylabel(\"counts\")\n",
    "plt.xlabel(\"sentence length\")\n",
    "plt.show()\n",
    "\n"
   ]
  },
  {
   "cell_type": "code",
   "execution_count": 37,
   "metadata": {},
   "outputs": [
    {
     "data": {
      "text/plain": [
       "<function matplotlib.pyplot.hist(x, bins=None, range=None, density=None, weights=None, cumulative=False, bottom=None, histtype='bar', align='mid', orientation='vertical', rwidth=None, log=False, color=None, label=None, stacked=False, normed=None, *, data=None, **kwargs)>"
      ]
     },
     "execution_count": 37,
     "metadata": {},
     "output_type": "execute_result"
    }
   ],
   "source": [
    "sorted([1,2,3], reverse=True)\n"
   ]
  },
  {
   "cell_type": "markdown",
   "metadata": {},
   "source": [
    "## token analysis"
   ]
  },
  {
   "cell_type": "code",
   "execution_count": 88,
   "metadata": {},
   "outputs": [
    {
     "name": "stdout",
     "output_type": "stream",
     "text": [
      "3589\n",
      "(a, 8452)  (., 3704)  (on, 1843)  (of, 1724)  (the, 1695)  (in, 1527)  (with, 1373)  (and, 1200)  (is, 810)  (man, 639)  (to, 574)  (sitting, 444)  (,, 436)  (an, 407)  (two, 387)  (at, 371)  (standing, 352)  (next, 338)  (people, 328)  (are, 323)  (white, 315)  (woman, 284)  (table, 281)  (holding, 260)  (it, 258)  "
     ]
    },
    {
     "data": {
      "image/png": "[encoded data removed]",
      "text/plain": [
       "<Figure size 1440x360 with 1 Axes>"
      ]
     },
     "metadata": {
      "needs_background": "light"
     },
     "output_type": "display_data"
    },
    {
     "name": "stdout",
     "output_type": "stream",
     "text": [
      "(., 3704)  (,, 436)  ('s, 71)  ('', 16)  (``, 15)  (close-up, 8)  (t.v, 4)  (multi-colored, 4)  (n't, 4)  (double-decker, 2)  (#, 2)  (-, 2)  (black-and-white, 2)  (half-eaten, 1)  (three-tier, 1)  (d'oeuvres, 1)  (large-screened, 1)  (two-way, 1)  (cross-country, 1)  (street.a, 1)  (cross-legged, 1)  (through-, 1)  (old-fashioned, 1)  (two-story, 1)  (traffic.and, 1)  (full-length, 1)  (cloth-covered, 1)  (corner-fitting, 1)  (;, 1)  (12:10, 1)  ('time, 1)  (', 1)  (stre.et, 1)  (tri-motor, 1)  (front-lit, 1)  (out-of-focus, 1)  (wood-grain, 1)  (stir-fry, 1)  (hree-story, 1)  (ice-cream, 1)  (cello-tape, 1)  (fair-goers, 1)  (ocean-side, 1)  (half-filled, 1)  (pyramid.., 1)  (solar-powered, 1)  (planes-, 1)  (coal-fired, 1)  ('do, 1)  (8:29, 1)  (t-shirt, 1)  (on-deck, 1)  (stand-up, 1)  (high-heeled, 1)  (built-in, 1)  (long-exposure, 1)  ($, 1)  (3.69, 1)  "
     ]
    }
   ],
   "source": [
    "\n",
    "n_samples = 5000\n",
    "annIds = coco_caption.getAnnIds()\n",
    "annIds = np.random.choice(annIds, size=n_samples, replace=True).tolist()\n",
    "\n",
    "vocab = defaultdict(int)\n",
    "punc = defaultdict(int)\n",
    "\n",
    "x = re.search(r'\\W+', \"abcd513|zABC1239\")\n",
    "for annId in annIds:\n",
    "    ann_i = coco_caption.loadAnns(annId)[0]\n",
    "    caption = ann_i['caption']\n",
    "    caption = caption.lower()\n",
    "    tokens = word_tokenize(caption)\n",
    "    for token in tokens:\n",
    "        vocab[token]+=1\n",
    "        nonalph = re.search(r'\\W+', token)\n",
    "        if nonalph is not None:\n",
    "            punc[token]+=1\n",
    "\n",
    "print(len(vocab))\n",
    "topK = 25\n",
    "vocab_sorted = sorted(vocab.keys(), reverse=True, key=lambda _key: vocab[_key])\n",
    "vocab_val = []\n",
    "for vocab_key in vocab_sorted[:topK]:\n",
    "    print(\"({}, {}) \".format(vocab_key, vocab[vocab_key]), end=\" \", flush=True)\n",
    "    vocab_val.append(vocab[vocab_key])\n",
    "\n",
    "vocab_X = range(len(vocab_val))\n",
    "plt.figure(figsize=(20, 5))\n",
    "plt.bar(vocab_X, vocab_val)\n",
    "plt.xticks(vocab_X, vocab_sorted)\n",
    "plt.title(\"Top {} frequent tokens\".format(topK))\n",
    "plt.show()\n",
    "\n",
    "punc_sorted = sorted(punc.keys(), reverse=True, key=lambda _key: punc[_key])\n",
    "for punc_key in punc_sorted:\n",
    "    print(\"({}, {}) \".format(punc_key, punc[punc_key]), end=\" \", flush=True)"
   ]
  },
  {
   "cell_type": "code",
   "execution_count": null,
   "metadata": {},
   "outputs": [],
   "source": [
    "    "
   ]
  }
 ],
 "metadata": {
  "kernelspec": {
   "display_name": "Python 3",
   "language": "python",
   "name": "python3"
  },
  "language_info": {
   "codemirror_mode": {
    "name": "ipython",
    "version": 3
   },
   "file_extension": ".py",
   "mimetype": "text/x-python",
   "name": "python",
   "nbconvert_exporter": "python",
   "pygments_lexer": "ipython3",
   "version": "3.7.3"
  }
 },
 "nbformat": 4,
 "nbformat_minor": 2
}
