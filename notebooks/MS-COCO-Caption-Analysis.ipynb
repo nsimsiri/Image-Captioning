{
 "cells": [
  {
   "cell_type": "code",
   "execution_count": 53,
   "metadata": {},
   "outputs": [
    {
     "name": "stdout",
     "output_type": "stream",
     "text": [
      "The autoreload extension is already loaded. To reload it, use:\n",
      "  %reload_ext autoreload\n"
     ]
    }
   ],
   "source": [
    "import os, sys, json, re\n",
    "from collections import defaultdict\n",
    "src_path = os.path.abspath(os.path.join(\"..\"))\n",
    "if src_path not in sys.path:\n",
    "    sys.path.append(src_path)\n",
    "    \n",
    "import pandas as pd\n",
    "import numpy as np\n",
    "import nltk\n",
    "from nltk import sent_tokenize, word_tokenize\n",
    "\n",
    "from src.config import CaptionConfig\n",
    "import matplotlib.pyplot as plt \n",
    "\n",
    "%matplotlib inline\n",
    "%load_ext autoreload\n",
    "%autoreload 2\n"
   ]
  },
  {
   "cell_type": "code",
   "execution_count": 5,
   "metadata": {},
   "outputs": [
    {
     "name": "stdout",
     "output_type": "stream",
     "text": [
      "/Users/nsimsiri/Documents/code/ml/nlp/cap/notebooks/../src/config.yml\n",
      "loading annotations into memory...\n",
      "Done (t=0.33s)\n",
      "creating index...\n",
      "index created!\n",
      "loaded - val captions\n",
      "\n",
      "\n",
      "\n",
      "\n",
      "\n",
      "\n"
     ]
    }
   ],
   "source": [
    "config_path = os.path.join(os.getcwd(), \"..\", \"src\",\"config.yml\")\n",
    "print(config_path)\n",
    "caption_config = CaptionConfig(config_path) \n",
    "# print(word_tokenize(\"aren't\"))"
   ]
  },
  {
   "cell_type": "markdown",
   "metadata": {},
   "source": [
    "### NLP statistics"
   ]
  },
  {
   "cell_type": "code",
   "execution_count": 51,
   "metadata": {},
   "outputs": [
    {
     "name": "stdout",
     "output_type": "stream",
     "text": [
      "# captions: 500\n"
     ]
    },
    {
     "data": {
      "image/png": "[encoded data removed]",
      "text/plain": [
       "<Figure size 432x288 with 1 Axes>"
      ]
     },
     "metadata": {
      "needs_background": "light"
     },
     "output_type": "display_data"
    }
   ],
   "source": [
    "n_samples = 500\n",
    "\n",
    "coco_caption = caption_config.get_coco_captions()\n",
    "annIds = coco_caption.getAnnIds()\n",
    "annIds = np.random.choice(annIds, size=n_samples, replace=False).tolist()\n",
    "print(\"# captions: \" + str(len(annIds)))\n",
    "\n",
    "sentence_lens = defaultdict(int)\n",
    "for annId in annIds:\n",
    "    ann_i = coco_caption.loadAnns(annId)[0]\n",
    "    tokens = word_tokenize(ann_i['caption'])\n",
    "    sentence_lens[(len(tokens))]+=1\n",
    "\n",
    "freqs = []\n",
    "freq_keys = sorted(sentence_lens.keys(), reverse=True)\n",
    "for sorted_freq in freq_keys:\n",
    "    freqs.append(sentence_lens[sorted_freq])\n",
    "\n",
    "topK = 500\n",
    "plt.bar(freq_keys[:topK], freqs[:topK])\n",
    "plt.title(\"Caption length distribution\")\n",
    "plt.ylabel(\"counts\")\n",
    "plt.xlabel(\"sentence length\")\n",
    "plt.show()\n",
    "\n"
   ]
  },
  {
   "cell_type": "code",
   "execution_count": 37,
   "metadata": {},
   "outputs": [
    {
     "data": {
      "text/plain": [
       "<function matplotlib.pyplot.hist(x, bins=None, range=None, density=None, weights=None, cumulative=False, bottom=None, histtype='bar', align='mid', orientation='vertical', rwidth=None, log=False, color=None, label=None, stacked=False, normed=None, *, data=None, **kwargs)>"
      ]
     },
     "execution_count": 37,
     "metadata": {},
     "output_type": "execute_result"
    }
   ],
   "source": [
    "sorted([1,2,3], reverse=True)\n"
   ]
  },
  {
   "cell_type": "markdown",
   "metadata": {},
   "source": [
    "## token analysis"
   ]
  },
  {
   "cell_type": "code",
   "execution_count": 85,
   "metadata": {},
   "outputs": [
    {
     "name": "stdout",
     "output_type": "stream",
     "text": [
      "<re.Match object; span=(7, 8), match='|'>\n",
      "3590\n",
      "(a, 8268)  (., 3702)  (on, 1882)  (of, 1673)  (the, 1634)  (in, 1512)  (with, 1319)  (and, 1210)  (is, 832)  (to, 587)  (man, 568)  (sitting, 489)  (an, 412)  (two, 388)  (,, 358)  (at, 352)  (people, 338)  (next, 333)  (standing, 327)  (are, 327)  (white, 319)  (woman, 269)  (street, 260)  (holding, 253)  (table, 250)  "
     ]
    },
    {
     "data": {
      "image/png": "[encoded data removed]",
      "text/plain": [
       "<Figure size 1440x360 with 1 Axes>"
      ]
     },
     "metadata": {
      "needs_background": "light"
     },
     "output_type": "display_data"
    },
    {
     "name": "stdout",
     "output_type": "stream",
     "text": [
      "(., 3702)  (,, 358)  ('s, 73)  (``, 12)  ('', 12)  (', 4)  (t-shirt, 4)  (close-up, 2)  ('re, 2)  (interstate-type, 2)  (st., 2)  (multi-colored, 2)  (t.v, 2)  (d.c, 1)  (silver-colored, 1)  (well-lit, 1)  (cat-shaped, 1)  (para-surfer, 1)  (n't, 1)  (split-screen, 1)  (walk-in, 1)  (night.., 1)  (t-ball, 1)  (card-board, 1)  (half-eaten, 1)  (3.50, 1)  (check-in, 1)  (en-fenced, 1)  (i-phone, 1)  (11:43, 1)  (p.m, 1)  (cream-cheese, 1)  (a., 1)  (thick-crust, 1)  (stainless-steel, 1)  (middle-aged, 1)  (multi-tiered, 1)  (frost-laden, 1)  (red-orange, 1)  (high-speed, 1)  (queen-sized, 1)  (semi-truck, 1)  (ice-cream, 1)  ('no, 1)  (air-boat, 1)  (&, 1)  (4:21, 1)  ('mt, 1)  (us-1, 1)  (up-shot, 1)  (-, 1)  (bat., 1)  (and.or, 1)  (white-colored, 1)  (>, 1)  (rain-covered, 1)  (apple.., 1)  (one-hand, 1)  (modestly-sized, 1)  (earth-moving, 1)  (odd-shaped, 1)  (black-and-white, 1)  (over-used, 1)  (2:07, 1)  (twenty-five, 1)  (;, 1)  "
     ]
    }
   ],
   "source": [
    "\n",
    "n_samples = 5000\n",
    "annIds = coco_caption.getAnnIds()\n",
    "annIds = np.random.choice(annIds, size=n_samples, replace=True).tolist()\n",
    "\n",
    "vocab = defaultdict(int)\n",
    "punc = defaultdict(int)\n",
    "\n",
    "x = re.search(r'\\W+', \"abcd513|zABC1239\")\n",
    "print(x)\n",
    "for annId in annIds:\n",
    "    ann_i = coco_caption.loadAnns(annId)[0]\n",
    "    caption = ann_i['caption']\n",
    "    caption = caption.lower()\n",
    "    tokens = word_tokenize(caption)\n",
    "    for token in tokens:\n",
    "        vocab[token]+=1\n",
    "        nonalph = re.search(r'\\W+', token)\n",
    "        if nonalph is not None:\n",
    "            punc[token]+=1\n",
    "\n",
    "print(len(vocab))\n",
    "topK = 25\n",
    "vocab_sorted = sorted(vocab.keys(), reverse=True, key=lambda _key: vocab[_key])\n",
    "vocab_val = []\n",
    "for vocab_key in vocab_sorted[:topK]:\n",
    "    print(\"({}, {}) \".format(vocab_key, vocab[vocab_key]), end=\" \", flush=True)\n",
    "    vocab_val.append(vocab[vocab_key])\n",
    "\n",
    "vocab_X = range(len(vocab_val))\n",
    "plt.figure(figsize=(20, 5))\n",
    "plt.bar(vocab_X, vocab_val)\n",
    "plt.xticks(vocab_X, vocab_sorted)\n",
    "plt.title(\"Top {} frequent tokens\".format(topK))\n",
    "plt.show()\n",
    "\n",
    "punc_sorted = sorted(punc.keys(), reverse=True, key=lambda _key: punc[_key])\n",
    "for punc_key in punc_sorted:\n",
    "    print(\"({}, {}) \".format(punc_key, punc[punc_key]), end=\" \", flush=True)"
   ]
  },
  {
   "cell_type": "code",
   "execution_count": null,
   "metadata": {},
   "outputs": [],
   "source": []
  }
 ],
 "metadata": {
  "kernelspec": {
   "display_name": "Python 3",
   "language": "python",
   "name": "python3"
  },
  "language_info": {
   "codemirror_mode": {
    "name": "ipython",
    "version": 3
   },
   "file_extension": ".py",
   "mimetype": "text/x-python",
   "name": "python",
   "nbconvert_exporter": "python",
   "pygments_lexer": "ipython3",
   "version": "3.7.3"
  }
 },
 "nbformat": 4,
 "nbformat_minor": 2
}
