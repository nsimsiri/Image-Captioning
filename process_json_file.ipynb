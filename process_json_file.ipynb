{
 "cells": [
  {
   "cell_type": "code",
   "execution_count": 1,
   "metadata": {
    "collapsed": true
   },
   "outputs": [],
   "source": [
    "%matplotlib inline\n",
    "from pycocotools.coco import COCO\n",
    "import numpy as np\n",
    "import skimage.io as io\n",
    "import matplotlib.pyplot as plt\n",
    "import json\n",
    "from pprint import pprint\n",
    "import os\n",
    "from os import walk\n",
    "\n",
    "\n"
   ]
  },
  {
   "cell_type": "code",
   "execution_count": 2,
   "metadata": {
    "collapsed": true
   },
   "outputs": [],
   "source": [
    "\n",
    "# data = json.load(open('./coco/annotations/captions_train2014.json'))\n",
    "data = json.load(open('./coco/annotations/captions_val2014.json'))\n",
    "\n"
   ]
  },
  {
   "cell_type": "code",
   "execution_count": 3,
   "metadata": {},
   "outputs": [
    {
     "name": "stdout",
     "output_type": "stream",
     "text": [
      "<type 'dict'>\n",
      "[u'info', u'images', u'licenses', u'annotations']\n",
      "202654\n",
      "40504\n",
      "6\n",
      "{u'description': u'This is stable 1.0 version of the 2014 MS COCO dataset.', u'url': u'http://mscoco.org', u'version': u'1.0', u'year': 2014, u'contributor': u'Microsoft COCO group', u'date_created': u'2015-01-27 09:11:52.357475'}\n",
      "{u'license': 3, u'file_name': u'COCO_val2014_000000391895.jpg', u'coco_url': u'http://mscoco.org/images/391895', u'height': 360, u'width': 640, u'date_captured': u'2013-11-14 11:18:45', u'flickr_url': u'http://farm9.staticflickr.com/8186/8119368305_4e622c8349_z.jpg', u'id': 391895}\n",
      "{u'image_id': 203564, u'id': 37, u'caption': u'A bicycle replica with a clock as the front wheel.'}\n",
      "COCO_val2014_000000391895.jpg\n"
     ]
    }
   ],
   "source": [
    "print type(data)\n",
    "print data.keys()\n",
    "print len(data['annotations'])\n",
    "print len(data['images'])\n",
    "print len(data['info'])\n",
    "print data['info']\n",
    "print data['images'][0]\n",
    "print data['annotations'][0]\n",
    "print data['images'][0]['file_name']\n"
   ]
  },
  {
   "cell_type": "code",
   "execution_count": 4,
   "metadata": {},
   "outputs": [
    {
     "name": "stdout",
     "output_type": "stream",
     "text": [
      "1228\n"
     ]
    }
   ],
   "source": [
    "from os import walk\n",
    "\n",
    "f = []\n",
    "# mypath = \"./data/resized2014\"\n",
    "mypath = \"./data/val_resized2014\"\n",
    "resize_set = set();\n",
    "for (dirpath, dirnames, filenames) in walk(mypath):\n",
    "#     print filenames\n",
    "    resize_set = set(filenames)\n",
    "    break;\n",
    "print len(resize_set)"
   ]
  },
  {
   "cell_type": "code",
   "execution_count": 5,
   "metadata": {},
   "outputs": [
    {
     "name": "stdout",
     "output_type": "stream",
     "text": [
      "COCO_val2014_000000006347.jpg\n"
     ]
    }
   ],
   "source": [
    "\n",
    "resize_l = list(resize_set)\n",
    "print resize_l[0]"
   ]
  },
  {
   "cell_type": "code",
   "execution_count": 6,
   "metadata": {},
   "outputs": [
    {
     "name": "stdout",
     "output_type": "stream",
     "text": [
      "1228\n"
     ]
    }
   ],
   "source": [
    "imgs = []\n",
    "old_imgs = data['images'];\n",
    "i = 0\n",
    "for img in data['images']:\n",
    "    fn = data['images'][i]['file_name'];\n",
    "    if fn in resize_set:\n",
    "        imgs.append(data['images'][i]);\n",
    "    i+=1;\n",
    "#     if i%1000 == 0: \n",
    "#         print '%s/%s'%(i, len(old_imgs));\n",
    "print len(imgs)\n",
    "    \n",
    "    "
   ]
  },
  {
   "cell_type": "code",
   "execution_count": 8,
   "metadata": {},
   "outputs": [
    {
     "name": "stdout",
     "output_type": "stream",
     "text": [
      "1228\n"
     ]
    }
   ],
   "source": [
    "saved_imgs = data['images'];\n",
    "data['images'] = imgs;\n",
    "print len(data['images'])\n",
    "with open('./coco/annotations/sm_captions_val2014.json', 'w') as outfile:\n",
    "    json.dump(data, outfile)"
   ]
  },
  {
   "cell_type": "code",
   "execution_count": 9,
   "metadata": {},
   "outputs": [],
   "source": [
    "data = json.load(open('./coco/annotations/sm_captions_val2014.json'))"
   ]
  },
  {
   "cell_type": "code",
   "execution_count": 10,
   "metadata": {},
   "outputs": [
    {
     "name": "stdout",
     "output_type": "stream",
     "text": [
      "1228\n"
     ]
    }
   ],
   "source": [
    "iid_set = set();\n",
    "for img in data['images']:\n",
    "    iid_set.add(img['id']);\n",
    "print len(iid_set)"
   ]
  },
  {
   "cell_type": "code",
   "execution_count": 11,
   "metadata": {},
   "outputs": [
    {
     "name": "stdout",
     "output_type": "stream",
     "text": [
      "0/202654\n",
      "50000/202654\n",
      "100000/202654\n",
      "150000/202654\n",
      "200000/202654\n",
      "6142\n"
     ]
    }
   ],
   "source": [
    "anns = []\n",
    "i=0;\n",
    "n = len(data['annotations']);\n",
    "for ann in data['annotations']:\n",
    "    if (ann['image_id'] in iid_set):\n",
    "        anns.append(ann)\n",
    "    if (i%50000==0): print'%s/%s'%(i,n);\n",
    "    i+=1;\n",
    "print len(anns);"
   ]
  },
  {
   "cell_type": "code",
   "execution_count": 12,
   "metadata": {},
   "outputs": [
    {
     "name": "stdout",
     "output_type": "stream",
     "text": [
      "6142\n"
     ]
    }
   ],
   "source": [
    "data['annotations'] = anns;\n",
    "print len(data['annotations'])\n",
    "with open('./coco/annotations/sm_captions_val2014.json', 'w') as outfile:\n",
    "    json.dump(data, outfile)"
   ]
  },
  {
   "cell_type": "code",
   "execution_count": 33,
   "metadata": {},
   "outputs": [
    {
     "name": "stdout",
     "output_type": "stream",
     "text": [
      "[u'info', u'images', u'licenses', u'annotations']\n"
     ]
    }
   ],
   "source": [
    "print data.keys()"
   ]
  },
  {
   "cell_type": "code",
   "execution_count": null,
   "metadata": {
    "collapsed": true
   },
   "outputs": [],
   "source": []
  }
 ],
 "metadata": {
  "kernelspec": {
   "display_name": "Python 2",
   "language": "python",
   "name": "python2"
  },
  "language_info": {
   "codemirror_mode": {
    "name": "ipython",
    "version": 2
   },
   "file_extension": ".py",
   "mimetype": "text/x-python",
   "name": "python",
   "nbconvert_exporter": "python",
   "pygments_lexer": "ipython2",
   "version": "2.7.13"
  }
 },
 "nbformat": 4,
 "nbformat_minor": 2
}
