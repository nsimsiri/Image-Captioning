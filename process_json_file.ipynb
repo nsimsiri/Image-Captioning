{
 "cells": [
  {
   "cell_type": "code",
   "execution_count": 1,
   "metadata": {
    "collapsed": true
   },
   "outputs": [],
   "source": [
    "%matplotlib inline\n",
    "from pycocotools.coco import COCO\n",
    "import numpy as np\n",
    "import skimage.io as io\n",
    "import matplotlib.pyplot as plt\n",
    "import json\n",
    "from pprint import pprint\n",
    "import os\n",
    "from os import walk\n",
    "\n",
    "\n"
   ]
  },
  {
   "cell_type": "code",
   "execution_count": 2,
   "metadata": {},
   "outputs": [],
   "source": [
    "\n",
    "data = json.load(open('./coco/annotations/captions_train2014.json'))\n",
    "\n"
   ]
  },
  {
   "cell_type": "code",
   "execution_count": 3,
   "metadata": {},
   "outputs": [
    {
     "name": "stdout",
     "output_type": "stream",
     "text": [
      "<type 'dict'>\n",
      "[u'info', u'images', u'licenses', u'annotations']\n",
      "414113\n",
      "82783\n",
      "6\n",
      "{u'description': u'This is stable 1.0 version of the 2014 MS COCO dataset.', u'url': u'http://mscoco.org', u'version': u'1.0', u'year': 2014, u'contributor': u'Microsoft COCO group', u'date_created': u'2015-01-27 09:11:52.357475'}\n",
      "{u'license': 5, u'file_name': u'COCO_train2014_000000057870.jpg', u'coco_url': u'http://mscoco.org/images/57870', u'height': 480, u'width': 640, u'date_captured': u'2013-11-14 16:28:13', u'flickr_url': u'http://farm4.staticflickr.com/3153/2970773875_164f0c0b83_z.jpg', u'id': 57870}\n",
      "{u'image_id': 318556, u'id': 48, u'caption': u'A very clean and well decorated empty bathroom'}\n",
      "COCO_train2014_000000057870.jpg\n"
     ]
    }
   ],
   "source": [
    "print type(data)\n",
    "print data.keys()\n",
    "print len(data['annotations'])\n",
    "print len(data['images'])\n",
    "print len(data['info'])\n",
    "print data['info']\n",
    "print data['images'][0]\n",
    "print data['annotations'][0]\n",
    "print data['images'][0]['file_name']\n"
   ]
  },
  {
   "cell_type": "code",
   "execution_count": 4,
   "metadata": {},
   "outputs": [
    {
     "name": "stdout",
     "output_type": "stream",
     "text": [
      "5000\n"
     ]
    }
   ],
   "source": [
    "from os import walk\n",
    "\n",
    "f = []\n",
    "mypath = \"./data/resized2014\"\n",
    "resize_set = set();\n",
    "for (dirpath, dirnames, filenames) in walk(mypath):\n",
    "#     print filenames\n",
    "    resize_set = set(filenames)\n",
    "    break;\n",
    "print len(resize_set)"
   ]
  },
  {
   "cell_type": "code",
   "execution_count": 5,
   "metadata": {},
   "outputs": [
    {
     "name": "stdout",
     "output_type": "stream",
     "text": [
      "False\n",
      "COCO_train2014_000000007251.jpg\n",
      "True\n"
     ]
    }
   ],
   "source": [
    "print 'COCO_train2014_000000057870.jpg' in resize_set\n",
    "resize_l = list(resize_set)\n",
    "print resize_l[0]\n",
    "print 'COCO_train2014_000000007251.jpg' in resize_set"
   ]
  },
  {
   "cell_type": "code",
   "execution_count": 6,
   "metadata": {},
   "outputs": [
    {
     "name": "stdout",
     "output_type": "stream",
     "text": [
      "5000\n"
     ]
    }
   ],
   "source": [
    "imgs = []\n",
    "old_imgs = data['images'];\n",
    "i = 0\n",
    "for img in data['images']:\n",
    "    fn = data['images'][i]['file_name'];\n",
    "    if fn in resize_set:\n",
    "        imgs.append(data['images'][i]);\n",
    "    i+=1;\n",
    "#     if i%1000 == 0: \n",
    "#         print '%s/%s'%(i, len(old_imgs));\n",
    "print len(imgs)\n",
    "    \n",
    "    "
   ]
  },
  {
   "cell_type": "code",
   "execution_count": 7,
   "metadata": {},
   "outputs": [
    {
     "name": "stdout",
     "output_type": "stream",
     "text": [
      "5000\n"
     ]
    }
   ],
   "source": [
    "saved_imgs = data['images'];\n",
    "data['images'] = imgs;\n",
    "print len(data['images'])\n",
    "    with open('./coco/annotations/sm_captions_train2014.json', 'w') as outfile:\n",
    "        json.dump(data, outfile)"
   ]
  },
  {
   "cell_type": "code",
   "execution_count": 9,
   "metadata": {},
   "outputs": [
    {
     "name": "stdout",
     "output_type": "stream",
     "text": [
      "5000\n",
      "45806755\n"
     ]
    }
   ],
   "source": [
    "data = json.load(open('./coco/annotations/sm_captions_train2014.json'))"
   ]
  },
  {
   "cell_type": "code",
   "execution_count": 25,
   "metadata": {},
   "outputs": [
    {
     "name": "stdout",
     "output_type": "stream",
     "text": [
      "5000\n"
     ]
    }
   ],
   "source": [
    "iid_set = set();\n",
    "for img in data['images']:\n",
    "    iid_set.add(img['id']);\n",
    "print len(iid_set)"
   ]
  },
  {
   "cell_type": "code",
   "execution_count": 30,
   "metadata": {},
   "outputs": [
    {
     "name": "stdout",
     "output_type": "stream",
     "text": [
      "0/414113\n",
      "50000/414113\n",
      "100000/414113\n",
      "150000/414113\n",
      "200000/414113\n",
      "250000/414113\n",
      "300000/414113\n",
      "350000/414113\n",
      "400000/414113\n",
      "25015\n"
     ]
    }
   ],
   "source": [
    "anns = []\n",
    "i=0;\n",
    "n = len(data['annotations']);\n",
    "for ann in data['annotations']:\n",
    "    if (ann['image_id'] in iid_set):\n",
    "        anns.append(ann)\n",
    "    if (i%50000==0): print'%s/%s'%(i,n);\n",
    "    i+=1;\n",
    "print len(anns);"
   ]
  },
  {
   "cell_type": "code",
   "execution_count": 32,
   "metadata": {},
   "outputs": [
    {
     "name": "stdout",
     "output_type": "stream",
     "text": [
      "25015\n"
     ]
    }
   ],
   "source": [
    "data['annotations'] = anns;\n",
    "print len(data['annotations'])\n",
    "with open('./coco/annotations/sm_captions_train2014.json', 'w') as outfile:\n",
    "    json.dump(data, outfile)"
   ]
  },
  {
   "cell_type": "code",
   "execution_count": 33,
   "metadata": {},
   "outputs": [
    {
     "name": "stdout",
     "output_type": "stream",
     "text": [
      "[u'info', u'images', u'licenses', u'annotations']\n"
     ]
    }
   ],
   "source": [
    "print data.keys()"
   ]
  },
  {
   "cell_type": "code",
   "execution_count": null,
   "metadata": {
    "collapsed": true
   },
   "outputs": [],
   "source": []
  }
 ],
 "metadata": {
  "kernelspec": {
   "display_name": "Python 2",
   "language": "python",
   "name": "python2"
  },
  "language_info": {
   "codemirror_mode": {
    "name": "ipython",
    "version": 2
   },
   "file_extension": ".py",
   "mimetype": "text/x-python",
   "name": "python",
   "nbconvert_exporter": "python",
   "pygments_lexer": "ipython2",
   "version": "2.7.13"
  }
 },
 "nbformat": 4,
 "nbformat_minor": 2
}
